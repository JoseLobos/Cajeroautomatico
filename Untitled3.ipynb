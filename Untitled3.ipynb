{
  "nbformat": 4,
  "nbformat_minor": 0,
  "metadata": {
    "colab": {
      "name": "Untitled3.ipynb",
      "provenance": [],
      "authorship_tag": "ABX9TyO8jfcQv50kEgbW4C2M6J5M",
      "include_colab_link": true
    },
    "kernelspec": {
      "name": "python3",
      "display_name": "Python 3"
    },
    "language_info": {
      "name": "python"
    }
  },
  "cells": [
    {
      "cell_type": "markdown",
      "metadata": {
        "id": "view-in-github",
        "colab_type": "text"
      },
      "source": [
        "<a href=\"https://colab.research.google.com/github/JoseLobos/Cajeroautomatico/blob/main/Untitled3.ipynb\" target=\"_parent\"><img src=\"https://colab.research.google.com/assets/colab-badge.svg\" alt=\"Open In Colab\"/></a>"
      ]
    },
    {
      "cell_type": "code",
      "execution_count": 9,
      "metadata": {
        "colab": {
          "base_uri": "https://localhost:8080/"
        },
        "id": "qYOvWWOZjfoT",
        "outputId": "088031cc-4853-450d-eb58-1637a1b85b5e"
      },
      "outputs": [
        {
          "output_type": "stream",
          "name": "stdout",
          "text": [
            "Cantidad a extraer: 580\n",
            "Billetes de 100 5\n",
            "Billetes de 50: 1\n",
            "Billetes de 20: 1\n",
            "Billetes de 10: 1\n",
            "Billetes de 5: 0\n"
          ]
        }
      ],
      "source": [
        "\n",
        "carga100 = 1000\n",
        "carga50 = 1000\n",
        "carga20 = 1000\n",
        "carga10 = 1000\n",
        "carga5 = 1000\n",
        " \n",
        " \n",
        "def sacar_dinero(cantidad):\n",
        "  global carga100, carga50, carga20, carga10, carga5\n",
        "  if cantidad <= 100 * carga100 + 50 * carga50 + 20 * carga20 + 10 * carga10 + 5 * carga5:\n",
        "    de100 = int(cantidad/100)\n",
        "    cantidad = cantidad % 100\n",
        "    if de100 >= carga100: # si hay suficientes billetes de 100\n",
        "        cantidad = cantidad + (de100 - carga100) * 100\n",
        "        de100 = carga100\n",
        " \n",
        "    de50 = int(cantidad / 50)\n",
        "    cantidad = cantidad % 50\n",
        "    if de50 >= carga50: # Si hay suficientes billetes de 50\n",
        "      cantidad = cantidad + (de50 - carga50) * 50\n",
        "      de50 = carga50\n",
        " \n",
        "    de20 = int(cantidad / 20)\n",
        "    cantidad = cantidad % 20\n",
        "    if de20 >= carga20: # si hay suficientes billetes de 20\n",
        "      cantidad = cantidad + (de20 - carga20) * 20\n",
        "      de20 = carga20\n",
        " \n",
        "    de10 = int(cantidad / 10)\n",
        "    cantidad = cantidad % 10\n",
        "    if de10 >= carga10: # si hay suficientes billetes de 10\n",
        "      cantidad = cantidad + (de10 - carga10) * 10\n",
        "      de10 = carga10\n",
        " \n",
        "    de5 = int(cantidad / 5)\n",
        "    cantidad = cantidad % 5\n",
        "    if de5  >= carga5: # si hay suficientes billetes de 5\n",
        "        cantidad = cantidad + (de5 - carga5) * 5\n",
        "        de5 = carga5\n",
        " \n",
        " \n",
        " \n",
        " \n",
        "    # Si todo ha ido bien, la cantidad que resta por entregar es nula:\n",
        "    if cantidad == 0:\n",
        "      # Así que hacemos efectiva la extracción\n",
        "      carga100= carga100 - de100\n",
        "      carga50 = carga50 - de50\n",
        "      carga20 = carga20 - de20\n",
        "      carga10 = carga10 - de10\n",
        "      carga5 = carga5 - de5\n",
        "      return [de100, de50, de20, de10, de5]\n",
        "    else: # Y si no, devolvemos la lista con cinco ceros:\n",
        "      return [0, 0, 0, 0, 0]\n",
        "  else:\n",
        "    return [-1, -1, -1, -1, -1]\n",
        " \n",
        "try:\n",
        "    c = int(input('Cantidad a extraer: '))\n",
        "    resultado=sacar_dinero(c)\n",
        "    if resultado==[0,0,0,0,0]:\n",
        "        print ('No hay desglose de billetes para su importe')\n",
        "    elif resultado==[-1,-1,-1,-1,-1]:\n",
        "        print ('No hay suficientes billetes')\n",
        "    else:\n",
        "        print ('Billetes de 100', resultado[0])\n",
        "        print ('Billetes de 50:', resultado[1])\n",
        "        print ('Billetes de 20:', resultado[2])\n",
        "        print ('Billetes de 10:', resultado[3])\n",
        "        print ('Billetes de 5:', resultado [4])\n",
        "except:\n",
        "    print ('Importe incorrecto')"
      ]
    }
  ]
}