{
  "nbformat": 4,
  "nbformat_minor": 0,
  "metadata": {
    "colab": {
      "name": "Untitled3.ipynb",
      "provenance": [],
      "authorship_tag": "ABX9TyPZWvVors+z/fzXsECZl8Mf",
      "include_colab_link": true
    },
    "kernelspec": {
      "name": "python3",
      "display_name": "Python 3"
    },
    "language_info": {
      "name": "python"
    }
  },
  "cells": [
    {
      "cell_type": "markdown",
      "metadata": {
        "id": "view-in-github",
        "colab_type": "text"
      },
      "source": [
        "<a href=\"https://colab.research.google.com/github/JoseLobos/Parcial1progra/blob/main/Untitled3.ipynb\" target=\"_parent\"><img src=\"https://colab.research.google.com/assets/colab-badge.svg\" alt=\"Open In Colab\"/></a>"
      ]
    },
    {
      "cell_type": "markdown",
      "source": [
        "1) Desarrolle un algoritmo en Python que permita obtener los descuentos ISSS, \n",
        "AFP,  I.S.R,  vacaciones,  aguinaldo  etc.  Uno  para  empresas  y  otro  para \n",
        "personas. Favor investigue los datos correspondientes según ley. El usuario \n",
        "deberá ingresar el sueldo y que el sistema le diga el valor neto a pagarle y \n",
        "las deducciones. (30%) "
      ],
      "metadata": {
        "id": "UtMyBdnDvdp3"
      }
    },
    {
      "cell_type": "markdown",
      "source": [
        "\n",
        "PARA PERSONA"
      ],
      "metadata": {
        "id": "vjr2L8JDwsXx"
      }
    },
    {
      "cell_type": "code",
      "source": [
        "\n",
        "sueldo= float(input(\"Escriba su sueldo:\"))\n",
        "deducciones=[3,6,30,100,10,20,30]\n",
        "\n",
        "ISSS=(sueldo*deducciones[0])/100\n",
        "AFP=(sueldo*deducciones[1])/100\n",
        "VACACIONES=(sueldo*deducciones[2])/100\n",
        "AGUINALDO=(sueldo*deducciones[3])/100\n",
        "IRSTRAMOI=(sueldo*deducciones[4])/100\n",
        "IRSTRAMOII=(sueldo*deducciones[5])/100\n",
        "IRSTRAMOIII=(sueldo*deducciones[6])/100\n",
        "\n",
        "\n",
        "totaldescuentos= ISSS+AFP+VACACIONES+AGUINALDO+IRSTRAMOI+IRSTRAMOII+IRSTRAMOIII\n",
        "#Total=sueldo-totaldescuentos\n",
        "\n",
        "\n",
        "if sueldo<=472.00:\n",
        "    print(\"**Deducciones**\")\n",
        "    print(\"ISSS:\",ISSS)\n",
        "    print(\"AFP:\",AFP)\n",
        "    print(\"VACACIONES:\",VACACIONES)\n",
        "    print(\"AGUINALDO:\",AGUINALDO)\n",
        "    print(\"su salario es:\",totaldescuentos-sueldo)\n",
        "    print(\"ISR: 0.00\")\n",
        "    \n",
        "elif sueldo<=895.24:\n",
        "    totaldescuentos= ISSS+AFP+VACACIONES+AGUINALDO+IRSTRAMOI\n",
        "    salario_sobre_renta = (sueldo-IRSTRAMOI)\n",
        "    print(\"**Deducciones**\")\n",
        "    print(\"ISSS:\",ISSS)\n",
        "    print(\"AFP:\",AFP)\n",
        "    print(\"VACACIONES:\",VACACIONES)\n",
        "    print(\"AGUINALDO:\",AGUINALDO)\n",
        "    print(\"su salario es:\",totaldescuentos-sueldo)\n",
        "    print(\"ISR:\",IRSTRAMOI)\n",
        "    \n",
        "elif sueldo<=2038.10:\n",
        "    totaldescuentos= ISSS+AFP+VACACIONES+AGUINALDO+IRSTRAMOII\n",
        "    salario_sobre_renta = (sueldo-IRSTRAMOII)\n",
        "    print(\"**Deducciones**\")\n",
        "    print(\"ISSS:\",ISSS)\n",
        "    print(\"AFP:\",AFP)\n",
        "    print(\"VACACIONES:\",VACACIONES)\n",
        "    print(\"AGUINALDO:\",AGUINALDO)\n",
        "    print(\"su salario es:\",totaldescuentos-sueldo)\n",
        "    print(\"ISR:\",IRSTRAMOII)\n",
        "\n",
        "elif sueldo>2038.10:\n",
        "    totaldescuentos= ISSS+AFP+VACACIONES+AGUINALDO+IRSTRAMOIII\n",
        "    salario_sobre_renta = (sueldo-IRSTRAMOII)\n",
        "    print(\"**Deducciones**\")\n",
        "    print(\"ISSS:\",ISSS)\n",
        "    print(\"AFP:\",AFP)\n",
        "    print(\"VACACIONES:\",VACACIONES)\n",
        "    print(\"AGUINALDO:\",AGUINALDO)\n",
        "    print(\"su salario es:\",totaldescuentos-sueldo)\n",
        "    print(\"ISR:\",IRSTRAMOIII)\n",
        "    \n",
        "else:\n",
        "    print(\"libre de impuestos\")\n"
      ],
      "metadata": {
        "colab": {
          "base_uri": "https://localhost:8080/"
        },
        "id": "jCLziVsXvvUe",
        "outputId": "a21a2646-9f94-4ff5-d124-08cca89bcd76"
      },
      "execution_count": 1,
      "outputs": [
        {
          "output_type": "stream",
          "name": "stdout",
          "text": [
            "Escriba su sueldo:600\n",
            "**Deducciones**\n",
            "ISSS: 18.0\n",
            "AFP: 36.0\n",
            "VACACIONES: 180.0\n",
            "AGUINALDO: 600.0\n",
            "su salario es: 294.0\n",
            "ISR: 60.0\n"
          ]
        }
      ]
    },
    {
      "cell_type": "markdown",
      "source": [
        "PARA EMPRESA"
      ],
      "metadata": {
        "id": "NVh3LgWpwv-K"
      }
    },
    {
      "cell_type": "code",
      "source": [
        "sueldo= float(input(\"Escriba su sueldo:\"))\n",
        "deducciones=[7.5,7.75,30,150,10,20,30]\n",
        "\n",
        "ISSS=(sueldo*deducciones[0])/100\n",
        "AFP=(sueldo*deducciones[1])/100\n",
        "VACACIONES=(sueldo*deducciones[2])/100\n",
        "AGUINALDO=(sueldo*deducciones[3])/100\n",
        "IRSTRAMOI=(sueldo*deducciones[4])/100\n",
        "IRSTRAMOII=(sueldo*deducciones[5])/100\n",
        "IRSTRAMOIII=(sueldo*deducciones[6])/100\n",
        "\n",
        "\n",
        "totaldescuentos= ISSS+AFP+VACACIONES+AGUINALDO+IRSTRAMOI+IRSTRAMOII+IRSTRAMOIII\n",
        "#Total=sueldo-totaldescuentos\n",
        "\n",
        "\n",
        "if sueldo<=472.00:\n",
        "    print(\"**Deducciones**\")\n",
        "    print(\"ISSS:\",ISSS)\n",
        "    print(\"AFP:\",AFP)\n",
        "    print(\"VACACIONES:\",VACACIONES)\n",
        "    print(\"AGUINALDO:\",AGUINALDO)\n",
        "    print(\"su salario es:\",totaldescuentos-sueldo)\n",
        "    print(\"ISR: 0.00\")\n",
        "    \n",
        "elif sueldo<=895.24:\n",
        "    totaldescuentos= ISSS+AFP+VACACIONES+AGUINALDO+IRSTRAMOI\n",
        "    salario_sobre_renta = (sueldo-IRSTRAMOI)\n",
        "    print(\"**Deducciones**\")\n",
        "    print(\"ISSS:\",ISSS)\n",
        "    print(\"AFP:\",AFP)\n",
        "    print(\"VACACIONES:\",VACACIONES)\n",
        "    print(\"AGUINALDO:\",AGUINALDO)\n",
        "    print(\"su salario es:\",totaldescuentos-sueldo)\n",
        "    print(\"ISR:\",IRSTRAMOI)\n",
        "    \n",
        "elif sueldo<=2038.10:\n",
        "    totaldescuentos= ISSS+AFP+VACACIONES+AGUINALDO+IRSTRAMOII\n",
        "    salario_sobre_renta = (sueldo-IRSTRAMOII)\n",
        "    print(\"**Deducciones**\")\n",
        "    print(\"ISSS:\",ISSS)\n",
        "    print(\"AFP:\",AFP)\n",
        "    print(\"VACACIONES:\",VACACIONES)\n",
        "    print(\"AGUINALDO:\",AGUINALDO)\n",
        "    print(\"su salario es:\",totaldescuentos-sueldo)\n",
        "    print(\"ISR:\",IRSTRAMOII)\n",
        "\n",
        "elif sueldo>2038.10:\n",
        "    totaldescuentos= ISSS+AFP+VACACIONES+AGUINALDO+IRSTRAMOIII\n",
        "    salario_sobre_renta = (sueldo-IRSTRAMOII)\n",
        "    print(\"**Deducciones**\")\n",
        "    print(\"ISSS:\",ISSS)\n",
        "    print(\"AFP:\",AFP)\n",
        "    print(\"VACACIONES:\",VACACIONES)\n",
        "    print(\"AGUINALDO:\",AGUINALDO)\n",
        "    print(\"su salario es:\",totaldescuentos-sueldo)\n",
        "    print(\"ISR:\",IRSTRAMOIII)\n",
        "    \n",
        "else:\n",
        "    print(\"libre de impuestos\")"
      ],
      "metadata": {
        "colab": {
          "base_uri": "https://localhost:8080/"
        },
        "id": "EplxZku2wG9y",
        "outputId": "98292708-483d-4456-b189-443e592da3c5"
      },
      "execution_count": 3,
      "outputs": [
        {
          "output_type": "stream",
          "name": "stdout",
          "text": [
            "Escriba su sueldo:600\n",
            "**Deducciones**\n",
            "ISSS: 45.0\n",
            "AFP: 46.5\n",
            "VACACIONES: 180.0\n",
            "AGUINALDO: 900.0\n",
            "su salario es: 631.5\n",
            "ISR: 60.0\n"
          ]
        }
      ]
    },
    {
      "cell_type": "markdown",
      "source": [
        "2) Desarrolle  un  algoritmo  en  Python  que  calcule  el  IMPUESTO  A  LAS \n",
        "ACTIVIDADES ECONOMICAS de acuerdo con la siguiente tabla. El monto \n",
        "de la actividad económica debe ser introducido por el usuario. (30%) "
      ],
      "metadata": {
        "id": "71mspM4exEOw"
      }
    },
    {
      "cell_type": "code",
      "source": [],
      "metadata": {
        "id": "uFbNfVj0xJ1Y"
      },
      "execution_count": null,
      "outputs": []
    },
    {
      "cell_type": "markdown",
      "source": [
        "4) Desarrolle un programa en Python que simule a un cajero automático. Haga \n",
        "uso de las estructuras de control. (20%) "
      ],
      "metadata": {
        "id": "E_en6QCIxL0D"
      }
    },
    {
      "cell_type": "code",
      "execution_count": null,
      "metadata": {
        "colab": {
          "base_uri": "https://localhost:8080/"
        },
        "id": "qYOvWWOZjfoT",
        "outputId": "088031cc-4853-450d-eb58-1637a1b85b5e"
      },
      "outputs": [
        {
          "output_type": "stream",
          "name": "stdout",
          "text": [
            "Cantidad a extraer: 580\n",
            "Billetes de 100 5\n",
            "Billetes de 50: 1\n",
            "Billetes de 20: 1\n",
            "Billetes de 10: 1\n",
            "Billetes de 5: 0\n"
          ]
        }
      ],
      "source": [
        "\n",
        "carga100 = 1000\n",
        "carga50 = 1000\n",
        "carga20 = 1000\n",
        "carga10 = 1000\n",
        "carga5 = 1000\n",
        " \n",
        " \n",
        "def sacar_dinero(cantidad):\n",
        "  global carga100, carga50, carga20, carga10, carga5\n",
        "  if cantidad <= 100 * carga100 + 50 * carga50 + 20 * carga20 + 10 * carga10 + 5 * carga5:\n",
        "    de100 = int(cantidad/100)\n",
        "    cantidad = cantidad % 100\n",
        "    if de100 >= carga100: # si hay suficientes billetes de 100\n",
        "        cantidad = cantidad + (de100 - carga100) * 100\n",
        "        de100 = carga100\n",
        " \n",
        "    de50 = int(cantidad / 50)\n",
        "    cantidad = cantidad % 50\n",
        "    if de50 >= carga50: # Si hay suficientes billetes de 50\n",
        "      cantidad = cantidad + (de50 - carga50) * 50\n",
        "      de50 = carga50\n",
        " \n",
        "    de20 = int(cantidad / 20)\n",
        "    cantidad = cantidad % 20\n",
        "    if de20 >= carga20: # si hay suficientes billetes de 20\n",
        "      cantidad = cantidad + (de20 - carga20) * 20\n",
        "      de20 = carga20\n",
        " \n",
        "    de10 = int(cantidad / 10)\n",
        "    cantidad = cantidad % 10\n",
        "    if de10 >= carga10: # si hay suficientes billetes de 10\n",
        "      cantidad = cantidad + (de10 - carga10) * 10\n",
        "      de10 = carga10\n",
        " \n",
        "    de5 = int(cantidad / 5)\n",
        "    cantidad = cantidad % 5\n",
        "    if de5  >= carga5: # si hay suficientes billetes de 5\n",
        "        cantidad = cantidad + (de5 - carga5) * 5\n",
        "        de5 = carga5\n",
        " \n",
        " \n",
        " \n",
        " \n",
        "    # Si todo ha ido bien, la cantidad que resta por entregar es nula:\n",
        "    if cantidad == 0:\n",
        "      # Así que hacemos efectiva la extracción\n",
        "      carga100= carga100 - de100\n",
        "      carga50 = carga50 - de50\n",
        "      carga20 = carga20 - de20\n",
        "      carga10 = carga10 - de10\n",
        "      carga5 = carga5 - de5\n",
        "      return [de100, de50, de20, de10, de5]\n",
        "    else: # Y si no, devolvemos la lista con cinco ceros:\n",
        "      return [0, 0, 0, 0, 0]\n",
        "  else:\n",
        "    return [-1, -1, -1, -1, -1]\n",
        " \n",
        "try:\n",
        "    c = int(input('Cantidad a extraer: '))\n",
        "    resultado=sacar_dinero(c)\n",
        "    if resultado==[0,0,0,0,0]:\n",
        "        print ('No hay desglose de billetes para su importe')\n",
        "    elif resultado==[-1,-1,-1,-1,-1]:\n",
        "        print ('No hay suficientes billetes')\n",
        "    else:\n",
        "        print ('Billetes de 100', resultado[0])\n",
        "        print ('Billetes de 50:', resultado[1])\n",
        "        print ('Billetes de 20:', resultado[2])\n",
        "        print ('Billetes de 10:', resultado[3])\n",
        "        print ('Billetes de 5:', resultado [4])\n",
        "except:\n",
        "    print ('Importe incorrecto')"
      ]
    }
  ]
}